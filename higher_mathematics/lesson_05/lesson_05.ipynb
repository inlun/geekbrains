{
  "nbformat": 4,
  "nbformat_minor": 0,
  "metadata": {
    "colab": {
      "name": "lesson_05.ipynb",
      "provenance": [],
      "collapsed_sections": [],
      "authorship_tag": "ABX9TyMpQFOmfsMjB56WRaTRz0HA",
      "include_colab_link": true
    },
    "kernelspec": {
      "name": "python3",
      "display_name": "Python 3"
    }
  },
  "cells": [
    {
      "cell_type": "markdown",
      "metadata": {
        "id": "view-in-github",
        "colab_type": "text"
      },
      "source": [
        "<a href=\"https://colab.research.google.com/github/inlun/geekbrains/blob/higher_mathematics/higher_mathematics/lesson_05/lesson_05.ipynb\" target=\"_parent\"><img src=\"https://colab.research.google.com/assets/colab-badge.svg\" alt=\"Open In Colab\"/></a>"
      ]
    },
    {
      "cell_type": "code",
      "metadata": {
        "id": "DGCFN_o2oIvF",
        "colab_type": "code",
        "colab": {}
      },
      "source": [
        "%matplotlib inline\n",
        "import numpy as np\n",
        "import matplotlib.pyplot as plt\n",
        "import itertools\n",
        "import math"
      ],
      "execution_count": 0,
      "outputs": []
    },
    {
      "cell_type": "code",
      "metadata": {
        "id": "YpJoY1BlpULZ",
        "colab_type": "code",
        "outputId": "9f98449f-d665-4818-a5ca-89f53ee40a86",
        "colab": {
          "base_uri": "https://localhost:8080/",
          "height": 272
        }
      },
      "source": [
        "# 1). Напишите код, моделирующий выпадение поля в рулетке (с учетом поля зеро).\n",
        "\n",
        "for _ in range(0, 15):\n",
        "  x = np.random.choice(37)\n",
        "  print(f'{x:2}', end='')\n",
        "  if x == 0:\n",
        "    print(\" зеро\")\n",
        "  elif x % 2 == 0:\n",
        "    print(\" красное\")\n",
        "  else:\n",
        "    print(\" черное\")"
      ],
      "execution_count": 0,
      "outputs": [
        {
          "output_type": "stream",
          "text": [
            "23 черное\n",
            "23 черное\n",
            "21 черное\n",
            "27 черное\n",
            " 1 черное\n",
            " 2 красное\n",
            " 3 черное\n",
            "14 красное\n",
            " 4 красное\n",
            "24 красное\n",
            " 5 черное\n",
            "17 черное\n",
            "35 черное\n",
            "33 черное\n",
            " 7 черное\n"
          ],
          "name": "stdout"
        }
      ]
    },
    {
      "cell_type": "code",
      "metadata": {
        "id": "qg4DHjZbpqlE",
        "colab_type": "code",
        "outputId": "13e7f953-6d32-4aa7-d892-d712cfd56433",
        "colab": {
          "base_uri": "https://localhost:8080/",
          "height": 68
        }
      },
      "source": [
        "# 2. 1). Напишите код, проверяющий любую из теорем сложения или умножения \n",
        "# вероятности на примере рулетки или подбрасывания монетки.\n",
        "\n",
        "x_1, x_2, x_3 = 0, 0, 0\n",
        "n = 1000\n",
        "for _ in range(0, n):\n",
        "  x = np.random.choice(37)\n",
        "  if x == 0:\n",
        "    x_1 += 1\n",
        "  elif x % 2 == 0:\n",
        "    x_2 += 1\n",
        "  else:\n",
        "    x_3 += 1\n",
        "print(f'зеро: {x_1} черное: {x_2} красное: {x_3}')\n",
        "print(f'ВЕРОЯТНОСТИ: зеро: {x_1 / n:.2f} черное: {x_2 / n:.2f} '\n",
        "      f'белое: {x_3 / n:.2f}')\n",
        "print(f'СУММА ВЕРОЯТНОСТЕЙ: {(x_1 + x_2 + x_3) / n:.2}')"
      ],
      "execution_count": 0,
      "outputs": [
        {
          "output_type": "stream",
          "text": [
            "зеро: 20 черное: 490 красное: 490\n",
            "ВЕРОЯТНОСТИ: зеро: 0.02 черное: 0.49 белое: 0.49\n",
            "СУММА ВЕРОЯТНОСТЕЙ: 1.0\n"
          ],
          "name": "stdout"
        }
      ]
    },
    {
      "cell_type": "code",
      "metadata": {
        "id": "NH9cUz-w0NMl",
        "colab_type": "code",
        "outputId": "5ff7f5fa-e122-4ccf-9b4d-1a4e2b825c99",
        "colab": {
          "base_uri": "https://localhost:8080/",
          "height": 312
        }
      },
      "source": [
        "# 2. 2). Сгенерируйте десять выборок случайных чисел х0, …, х9.\n",
        "# и постройте гистограмму распределения случайной суммы х0+х1+ …+ х9.\n",
        "\n",
        "x = [sum(np.random.rand(10)) for _ in range(10)]\n",
        "num_bins = 5\n",
        "n, bins, pathes = plt.hist(x, num_bins)\n",
        "plt.xlabel('x')\n",
        "plt.ylabel('probability')\n",
        "plt.title('histogram')"
      ],
      "execution_count": 0,
      "outputs": [
        {
          "output_type": "execute_result",
          "data": {
            "text/plain": [
              "Text(0.5, 1.0, 'histogram')"
            ]
          },
          "metadata": {
            "tags": []
          },
          "execution_count": 71
        },
        {
          "output_type": "display_data",
          "data": {
            "image/png": "[encoded data removed]",
            "text/plain": [
              "<Figure size 432x288 with 1 Axes>"
            ]
          },
          "metadata": {
            "tags": []
          }
        }
      ]
    },
    {
      "cell_type": "code",
      "metadata": {
        "id": "4cKpglUa8xSM",
        "colab_type": "code",
        "outputId": "ae7dbabc-6891-4deb-8415-83b0f7c1c91a",
        "colab": {
          "base_uri": "https://localhost:8080/",
          "height": 51
        }
      },
      "source": [
        "# 3. 1). Дополните код Монте-Карло последовательности независимых испытаний \n",
        "# расчетом соответствующих вероятностей (через биномиальное распределение)\n",
        "# и сравните результаты.\n",
        "\n",
        "k, n = 0, 1000\n",
        "a = np.random.randint(0, 2, n)\n",
        "b = np.random.randint(0, 2, n)\n",
        "c = np.random.randint(0, 2, n)\n",
        "d = np.random.randint(0, 2, n)\n",
        "x = a + b + c + d\n",
        "for i in range(0, n):\n",
        "    if x[i] == 2:\n",
        "      k += 1\n",
        "# print(a, b, c, d)\n",
        "# print(x)\n",
        "print(k, n, k/n)\n",
        "\n",
        "# коэффициент по формуле бернулли\n",
        "c = math.factorial(4) / (math.factorial(4 - 2) * math.factorial(2))\n",
        "p = 1 / 2\n",
        "q = 1 - p\n",
        "Pk = c * (p ** 2) * (q ** (4 - 2))\n",
        "print(f'Расчетная вероятность по формуле Бернулли {Pk}')\n"
      ],
      "execution_count": 0,
      "outputs": [
        {
          "output_type": "stream",
          "text": [
            "393 1000 0.393\n",
            "Расчетная вероятность по формуле Бернулли 0.375\n"
          ],
          "name": "stdout"
        }
      ]
    },
    {
      "cell_type": "code",
      "metadata": {
        "id": "EqdUZgx28x8T",
        "colab_type": "code",
        "outputId": "2d8a1605-5438-4912-e85b-5f254999eb8c",
        "colab": {
          "base_uri": "https://localhost:8080/",
          "height": 51
        }
      },
      "source": [
        "# 3. 2). Повторите расчеты биномиальных коэффициентов и вероятностей k успехов \n",
        "# в последовательности из n независимых испытаний, взяв другие значения n и k.\n",
        "\n",
        "# для 3 успехов из 4\n",
        "\n",
        "k, n = 0, 1000000\n",
        "a = np.random.randint(0, 2, n)\n",
        "b = np.random.randint(0, 2, n)\n",
        "c = np.random.randint(0, 2, n)\n",
        "d = np.random.randint(0, 2, n)\n",
        "x = a + b + c + d\n",
        "for i in range(0, n):\n",
        "    if x[i] == 3:\n",
        "      k += 1\n",
        "# print(a, b, c, d)\n",
        "# print(x)\n",
        "print(k, n, k/n)\n",
        "\n",
        "# коэффициент по формуле бернулли\n",
        "c = math.factorial(4) / (math.factorial(4 - 3) * math.factorial(3))\n",
        "p = 1 / 2\n",
        "q = 1 - p\n",
        "Pk = c * (p ** 3) * (q ** (4 - 3))\n",
        "print(f'Расчетная вероятность по формуле Бернулли {Pk}')"
      ],
      "execution_count": 0,
      "outputs": [
        {
          "output_type": "stream",
          "text": [
            "250272 1000000 0.250272\n",
            "Расчетная вероятность по формуле Бернулли 0.25\n"
          ],
          "name": "stdout"
        }
      ]
    },
    {
      "cell_type": "code",
      "metadata": {
        "id": "BmcrhM8-XmZI",
        "colab_type": "code",
        "outputId": "9c9c0daf-8c8e-4b3d-cb87-b0f7164cfe59",
        "colab": {
          "base_uri": "https://localhost:8080/",
          "height": 190
        }
      },
      "source": [
        "# 4). Из урока по комбинаторике повторите расчеты, сгенерировав возможные \n",
        "# варианты перестановок для других значений n и k\n",
        "\n",
        "# размещения\n",
        "s = sum([1 for _ in itertools.permutations('01234', 3)])\n",
        "for _ in itertools.permutations('01234', 3):\n",
        "  print(''.join(str(x) for x in _), end=' ')\n",
        "print()\n",
        "print(f'практическое количество размещений '\n",
        "      f'для символов \"012345\" по 3 элементам: {s}')\n",
        "print(f'расчетное количество размещений '\n",
        "      f'для символов \"012345\" по 3 элементам: {5 * 4 * 3}')\n",
        "print(f\"\\n\\n\")\n",
        "\n",
        "# сочетания\n",
        "s = sum([1 for _ in itertools.combinations('01234', 3)])\n",
        "for _ in itertools.combinations('01234', 3):\n",
        "  print(''.join(str(x) for x in _), end=' ')\n",
        "print()\n",
        "print(f'практическое количество сочетаний '\n",
        "      f'для символов \"012345\" по 3 элементам: {s}')\n",
        "print(f'расчетное количество сочетаний '\n",
        "      f'для символов \"012345\" по 3 элементам: '\n",
        "      f'{int(math.factorial(5) / (math.factorial(3) * math.factorial(5 - 3)))}')"
      ],
      "execution_count": 0,
      "outputs": [
        {
          "output_type": "stream",
          "text": [
            "012 013 014 021 023 024 031 032 034 041 042 043 102 103 104 120 123 124 130 132 134 140 142 143 201 203 204 210 213 214 230 231 234 240 241 243 301 302 304 310 312 314 320 321 324 340 341 342 401 402 403 410 412 413 420 421 423 430 431 432 \n",
            "практическое количество размещений для символов \"012345\" по 3 элементам: 60\n",
            "расчетное количество размещений для символов \"012345\" по 3 элементам: 60\n",
            "\n",
            "\n",
            "\n",
            "012 013 014 023 024 034 123 124 134 234 \n",
            "практическое количество сочетаний для символов \"012345\" по 3 элементам: 10\n",
            "расчетное количество сочетаний для символов \"012345\" по 3 элементам: 10\n"
          ],
          "name": "stdout"
        }
      ]
    },
    {
      "cell_type": "code",
      "metadata": {
        "id": "y5fYR0ZgYlCv",
        "colab_type": "code",
        "colab": {}
      },
      "source": [
        ""
      ],
      "execution_count": 0,
      "outputs": []
    }
  ]
}