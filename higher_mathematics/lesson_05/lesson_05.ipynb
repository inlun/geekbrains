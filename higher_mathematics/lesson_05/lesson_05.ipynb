{
  "nbformat": 4,
  "nbformat_minor": 0,
  "metadata": {
    "colab": {
      "name": "lesson_05.ipynb",
      "provenance": [],
      "collapsed_sections": [],
      "authorship_tag": "ABX9TyPC+I619IFrzQhEpKLWTVQz",
      "include_colab_link": true
    },
    "kernelspec": {
      "name": "python3",
      "display_name": "Python 3"
    }
  },
  "cells": [
    {
      "cell_type": "markdown",
      "metadata": {
        "id": "view-in-github",
        "colab_type": "text"
      },
      "source": [
        "<a href=\"https://colab.research.google.com/github/inlun/geekbrains/blob/higher_mathematics/higher_mathematics/lesson_05/lesson_05.ipynb\" target=\"_parent\"><img src=\"https://colab.research.google.com/assets/colab-badge.svg\" alt=\"Open In Colab\"/></a>"
      ]
    },
    {
      "cell_type": "code",
      "metadata": {
        "id": "DGCFN_o2oIvF",
        "colab_type": "code",
        "colab": {}
      },
      "source": [
        "%matplotlib inline\n",
        "import numpy as np\n",
        "import matplotlib.pyplot as plt\n",
        "import itertools\n",
        "import math"
      ],
      "execution_count": 0,
      "outputs": []
    },
    {
      "cell_type": "code",
      "metadata": {
        "id": "YpJoY1BlpULZ",
        "colab_type": "code",
        "outputId": "f34223e3-0d51-4b57-a122-9f40e5eaf42f",
        "colab": {
          "base_uri": "https://localhost:8080/",
          "height": 272
        }
      },
      "source": [
        "# 1). Напишите код, моделирующий выпадение поля в рулетке (с учетом поля зеро).\n",
        "\n",
        "for _ in range(0, 15):\n",
        "  x = np.random.choice(37)\n",
        "  print(f'{x:2}', end='')\n",
        "  if x == 0:\n",
        "    print(\" зеро\")\n",
        "  elif x % 2 == 0:\n",
        "    print(\" красное\")\n",
        "  else:\n",
        "    print(\" черное\")"
      ],
      "execution_count": 35,
      "outputs": [
        {
          "output_type": "stream",
          "text": [
            "35 черное\n",
            "28 красное\n",
            "13 черное\n",
            "11 черное\n",
            "19 черное\n",
            "23 черное\n",
            "14 красное\n",
            " 8 красное\n",
            "15 черное\n",
            "14 красное\n",
            "31 черное\n",
            " 1 черное\n",
            "26 красное\n",
            "33 черное\n",
            "27 черное\n"
          ],
          "name": "stdout"
        }
      ]
    },
    {
      "cell_type": "code",
      "metadata": {
        "id": "qg4DHjZbpqlE",
        "colab_type": "code",
        "outputId": "8ed2371b-d206-472b-9814-4136460cc295",
        "colab": {
          "base_uri": "https://localhost:8080/",
          "height": 68
        }
      },
      "source": [
        "# 2. 1). Напишите код, проверяющий любую из теорем сложения или умножения \n",
        "# вероятности на примере рулетки или подбрасывания монетки.\n",
        "\n",
        "x_1, x_2, x_3 = 0, 0, 0\n",
        "n = 1000\n",
        "for _ in range(0, n):\n",
        "  x = np.random.choice(37)\n",
        "  if x == 0:\n",
        "    x_1 += 1\n",
        "  elif x % 2 == 0:\n",
        "    x_2 += 1\n",
        "  else:\n",
        "    x_3 += 1\n",
        "print(f'зеро: {x_1} черное: {x_2} красное: {x_3}')\n",
        "print(f'ВЕРОЯТНОСТИ: зеро: {x_1 / n:.2f} черное: {x_2 / n:.2f} '\n",
        "      f'белое: {x_3 / n:.2f}')\n",
        "print(f'СУММА ВЕРОЯТНОСТЕЙ: {(x_1 + x_2 + x_3) / n:.2}')"
      ],
      "execution_count": 36,
      "outputs": [
        {
          "output_type": "stream",
          "text": [
            "зеро: 29 черное: 483 красное: 488\n",
            "ВЕРОЯТНОСТИ: зеро: 0.03 черное: 0.48 белое: 0.49\n",
            "СУММА ВЕРОЯТНОСТЕЙ: 1.0\n"
          ],
          "name": "stdout"
        }
      ]
    },
    {
      "cell_type": "code",
      "metadata": {
        "id": "NH9cUz-w0NMl",
        "colab_type": "code",
        "outputId": "194111a0-48f8-4308-ff71-b37e313a64e4",
        "colab": {
          "base_uri": "https://localhost:8080/",
          "height": 312
        }
      },
      "source": [
        "# 2. 2). Сгенерируйте десять выборок случайных чисел х0, …, х9.\n",
        "# и постройте гистограмму распределения случайной суммы х0+х1+ …+ х9.\n",
        "\n",
        "x = [sum(np.random.rand(10)) for _ in range(10)]\n",
        "num_bins = 5\n",
        "n, bins, pathes = plt.hist(x, num_bins)\n",
        "plt.xlabel('x')\n",
        "plt.ylabel('probability')\n",
        "plt.title('histogram')"
      ],
      "execution_count": 37,
      "outputs": [
        {
          "output_type": "execute_result",
          "data": {
            "text/plain": [
              "Text(0.5, 1.0, 'histogram')"
            ]
          },
          "metadata": {
            "tags": []
          },
          "execution_count": 37
        },
        {
          "output_type": "display_data",
          "data": {
            "image/png": "[encoded data removed]",
            "text/plain": [
              "<Figure size 432x288 with 1 Axes>"
            ]
          },
          "metadata": {
            "tags": []
          }
        }
      ]
    },
    {
      "cell_type": "code",
      "metadata": {
        "id": "4cKpglUa8xSM",
        "colab_type": "code",
        "outputId": "4538d489-cc23-440c-c5c0-86c9e27db8dd",
        "colab": {
          "base_uri": "https://localhost:8080/",
          "height": 51
        }
      },
      "source": [
        "# 3. 1). Дополните код Монте-Карло последовательности независимых испытаний \n",
        "# расчетом соответствующих вероятностей (через биномиальное распределение)\n",
        "# и сравните результаты.\n",
        "\n",
        "k, n = 0, 1000\n",
        "a = np.random.randint(0, 2, n)\n",
        "b = np.random.randint(0, 2, n)\n",
        "c = np.random.randint(0, 2, n)\n",
        "d = np.random.randint(0, 2, n)\n",
        "x = a + b + c + d\n",
        "for i in range(0, n):\n",
        "    if x[i] == 2:\n",
        "      k += 1\n",
        "# print(a, b, c, d)\n",
        "# print(x)\n",
        "print(k, n, k/n)\n",
        "\n",
        "# коэффициент по формуле бернулли\n",
        "c = math.factorial(4) / (math.factorial(4 - 2) * math.factorial(2))\n",
        "p = 1 / 2\n",
        "q = 1 - p\n",
        "Pk = c * (p ** 2) * (q ** (4 - 2))\n",
        "print(f'Расчетная вероятность по формуле Бернулли {Pk}')\n"
      ],
      "execution_count": 38,
      "outputs": [
        {
          "output_type": "stream",
          "text": [
            "341 1000 0.341\n",
            "Расчетная вероятность по формуле Бернулли 0.375\n"
          ],
          "name": "stdout"
        }
      ]
    },
    {
      "cell_type": "code",
      "metadata": {
        "id": "EqdUZgx28x8T",
        "colab_type": "code",
        "outputId": "2871cafa-db46-4dfc-fe61-e5fe74dcb855",
        "colab": {
          "base_uri": "https://localhost:8080/",
          "height": 51
        }
      },
      "source": [
        "# 3. 2). Повторите расчеты биномиальных коэффициентов и вероятностей k успехов \n",
        "# в последовательности из n независимых испытаний, взяв другие значения n и k.\n",
        "\n",
        "# для 3 успехов из 4\n",
        "\n",
        "k, n = 0, 1000000\n",
        "a = np.random.randint(0, 2, n)\n",
        "b = np.random.randint(0, 2, n)\n",
        "c = np.random.randint(0, 2, n)\n",
        "d = np.random.randint(0, 2, n)\n",
        "x = a + b + c + d\n",
        "for i in range(0, n):\n",
        "    if x[i] == 3:\n",
        "      k += 1\n",
        "# print(a, b, c, d)\n",
        "# print(x)\n",
        "print(k, n, k/n)\n",
        "\n",
        "# коэффициент по формуле бернулли\n",
        "c = math.factorial(4) / (math.factorial(4 - 3) * math.factorial(3))\n",
        "p = 1 / 2\n",
        "q = 1 - p\n",
        "Pk = c * (p ** 3) * (q ** (4 - 3))\n",
        "print(f'Расчетная вероятность по формуле Бернулли {Pk}')"
      ],
      "execution_count": 39,
      "outputs": [
        {
          "output_type": "stream",
          "text": [
            "249715 1000000 0.249715\n",
            "Расчетная вероятность по формуле Бернулли 0.25\n"
          ],
          "name": "stdout"
        }
      ]
    },
    {
      "cell_type": "code",
      "metadata": {
        "id": "BmcrhM8-XmZI",
        "colab_type": "code",
        "outputId": "238341aa-a930-4d9d-f98e-b9c839f3f188",
        "colab": {
          "base_uri": "https://localhost:8080/",
          "height": 190
        }
      },
      "source": [
        "# 4). Из урока по комбинаторике повторите расчеты, сгенерировав возможные \n",
        "# варианты перестановок для других значений n и k\n",
        "\n",
        "# размещения\n",
        "s = sum([1 for _ in itertools.permutations('01234', 3)])\n",
        "for _ in itertools.permutations('01234', 3):\n",
        "  print(''.join(str(x) for x in _), end=' ')\n",
        "print()\n",
        "print(f'практическое количество размещений '\n",
        "      f'для символов \"012345\" по 3 элементам: {s}')\n",
        "print(f'расчетное количество размещений '\n",
        "      f'для символов \"012345\" по 3 элементам: {5 * 4 * 3}')\n",
        "print(f\"\\n\\n\")\n",
        "\n",
        "# сочетания\n",
        "s = sum([1 for _ in itertools.combinations('01234', 3)])\n",
        "for _ in itertools.combinations('01234', 3):\n",
        "  print(''.join(str(x) for x in _), end=' ')\n",
        "print()\n",
        "print(f'практическое количество сочетаний '\n",
        "      f'для символов \"012345\" по 3 элементам: {s}')\n",
        "print(f'расчетное количество сочетаний '\n",
        "      f'для символов \"012345\" по 3 элементам: '\n",
        "      f'{int(math.factorial(5) / (math.factorial(3) * math.factorial(5 - 3)))}')"
      ],
      "execution_count": 40,
      "outputs": [
        {
          "output_type": "stream",
          "text": [
            "012 013 014 021 023 024 031 032 034 041 042 043 102 103 104 120 123 124 130 132 134 140 142 143 201 203 204 210 213 214 230 231 234 240 241 243 301 302 304 310 312 314 320 321 324 340 341 342 401 402 403 410 412 413 420 421 423 430 431 432 \n",
            "практическое количество размещений для символов \"012345\" по 3 элементам: 60\n",
            "расчетное количество размещений для символов \"012345\" по 3 элементам: 60\n",
            "\n",
            "\n",
            "\n",
            "012 013 014 023 024 034 123 124 134 234 \n",
            "практическое количество сочетаний для символов \"012345\" по 3 элементам: 10\n",
            "расчетное количество сочетаний для символов \"012345\" по 3 элементам: 10\n"
          ],
          "name": "stdout"
        }
      ]
    },
    {
      "cell_type": "code",
      "metadata": {
        "id": "y5fYR0ZgYlCv",
        "colab_type": "code",
        "outputId": "6c0cc6ea-d651-4036-e0f5-da99ed32a75b",
        "colab": {
          "base_uri": "https://localhost:8080/",
          "height": 34
        }
      },
      "source": [
        "print(1 / (math.factorial(27) * (2 ** 54) * (3 ** 18)))"
      ],
      "execution_count": 41,
      "outputs": [
        {
          "output_type": "stream",
          "text": [
            "1.315875673498838e-53\n"
          ],
          "name": "stdout"
        }
      ]
    },
    {
      "cell_type": "code",
      "metadata": {
        "id": "KtUhDyBOKhKN",
        "colab_type": "code",
        "colab": {
          "base_uri": "https://localhost:8080/",
          "height": 399
        },
        "outputId": "b7a32ffc-f6fa-421d-bdfb-200b7b0a709b"
      },
      "source": [
        "# Дополните код расчетом коэффициента корреляции x и y по формуле\n",
        "\n",
        "n = 100\n",
        "r = 0.7\n",
        "x = np.random.rand(n)\n",
        "y = r*x + (1 - r)*np.random.rand(n)\n",
        "plt.plot(x, y, 'o')\n",
        "plt.xlabel('x')\n",
        "plt.ylabel('y')\n",
        "plt.grid(True)\n",
        "\n",
        "a = (np.sum(x)*np.sum(y) - n*np.sum(x*y))/(np.sum(x)*np.sum(x) - n*np.sum(x*x))\n",
        "b = (np.sum(y) - a*np.sum(x))/n\n",
        "c = np.sum((x - np.average(x)) * (y - np.average(y))) / \\\n",
        "  np.sqrt(\n",
        "      np.sum((x - np.average(x)) ** 2) * np.sum((y - np.average(y)) ** 2)\n",
        "  )\n",
        "\n",
        "A = np.vstack([x, np.ones(len(x))]).T\n",
        "a1, b1 = np.linalg.lstsq(A, y)[0]\n",
        "c1 = np.corrcoef(x, y)\n",
        "print(a, b)\n",
        "print(c)\n",
        "print(a1, b1)\n",
        "print(c1)\n",
        "plt.plot([0, 1], [b, a + b])\n",
        "plt.show()"
      ],
      "execution_count": 42,
      "outputs": [
        {
          "output_type": "stream",
          "text": [
            "0.6429152062226832 0.16405147939316983\n",
            "0.9334151360294688\n",
            "0.6429152062226832 0.16405147939316994\n",
            "[[1.         0.93341514]\n",
            " [0.93341514 1.        ]]\n"
          ],
          "name": "stdout"
        },
        {
          "output_type": "stream",
          "text": [
            "/usr/local/lib/python3.6/dist-packages/ipykernel_launcher.py:17: FutureWarning: `rcond` parameter will change to the default of machine precision times ``max(M, N)`` where M and N are the input matrix dimensions.\n",
            "To use the future default and silence this warning we advise to pass `rcond=None`, to keep using the old, explicitly pass `rcond=-1`.\n"
          ],
          "name": "stderr"
        },
        {
          "output_type": "display_data",
          "data": {
            "image/png": "[encoded data removed]",
            "text/plain": [
              "<Figure size 432x288 with 1 Axes>"
            ]
          },
          "metadata": {
            "tags": []
          }
        }
      ]
    },
    {
      "cell_type": "code",
      "metadata": {
        "id": "jxBcpqcJQJCa",
        "colab_type": "code",
        "colab": {}
      },
      "source": [
        ""
      ],
      "execution_count": 0,
      "outputs": []
    }
  ]
}