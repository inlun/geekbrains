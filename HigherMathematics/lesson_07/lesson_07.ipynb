{
  "nbformat": 4,
  "nbformat_minor": 0,
  "metadata": {
    "colab": {
      "name": "lesson_07.ipynb",
      "provenance": [],
      "collapsed_sections": [],
      "authorship_tag": "ABX9TyMD1xiW/V140L9xtil13Onh",
      "include_colab_link": true
    },
    "kernelspec": {
      "name": "python3",
      "display_name": "Python 3"
    }
  },
  "cells": [
    {
      "cell_type": "markdown",
      "metadata": {
        "id": "view-in-github",
        "colab_type": "text"
      },
      "source": [
        "<a href=\"https://colab.research.google.com/github/inlun/geekbrains/blob/higher_mathematics/higher_mathematics/lesson_07/lesson_07.ipynb\" target=\"_parent\"><img src=\"https://colab.research.google.com/assets/colab-badge.svg\" alt=\"Open In Colab\"/></a>"
      ]
    },
    {
      "cell_type": "code",
      "metadata": {
        "id": "qk5O7ncVQ_15",
        "colab_type": "code",
        "colab": {}
      },
      "source": [
        "%matplotlib inline\n",
        "\n",
        "import numpy as np\n",
        "import matplotlib.pyplot as plt\n",
        "import scipy\n",
        "import scipy.linalg"
      ],
      "execution_count": 0,
      "outputs": []
    },
    {
      "cell_type": "code",
      "metadata": {
        "id": "8gABI8cKRLJZ",
        "colab_type": "code",
        "outputId": "8245a9a3-e98c-47b7-ad9f-c1c2d36ae8db",
        "colab": {
          "base_uri": "https://localhost:8080/",
          "height": 34
        }
      },
      "source": [
        "# 1). Решите линейную систему:\n",
        "\n",
        "A = np.array([[1, 2, 3], [4, 0, 6], [7, 8, 9]])\n",
        "B = np.array([12, 2, 1])\n",
        "np.linalg.solve(A,B)"
      ],
      "execution_count": 19,
      "outputs": [
        {
          "output_type": "execute_result",
          "data": {
            "text/plain": [
              "array([-9.2       ,  0.9       ,  6.46666667])"
            ]
          },
          "metadata": {
            "tags": []
          },
          "execution_count": 19
        }
      ]
    },
    {
      "cell_type": "code",
      "metadata": {
        "id": "TK6iOLMiRekX",
        "colab_type": "code",
        "outputId": "a8604a0b-89db-46e7-8db5-e4f15027cc1d",
        "colab": {
          "base_uri": "https://localhost:8080/",
          "height": 85
        }
      },
      "source": [
        "# 2). Найдите псевдорешение:\n",
        "\n",
        "A = np.array([[1, 2, -1], [3, -4, 0], [8, -5, 2], [2, 0, -5], [11, 4, -7]])\n",
        "B = np.array([1, 7, 12, 7, 15])\n",
        "np.linalg.lstsq(A, B, rcond=None)"
      ],
      "execution_count": 20,
      "outputs": [
        {
          "output_type": "execute_result",
          "data": {
            "text/plain": [
              "(array([ 1.13919353, -0.90498444, -0.9009803 ]),\n",
              " array([0.71523211]),\n",
              " 3,\n",
              " array([15.2817306 ,  9.59852942,  3.65197794]))"
            ]
          },
          "metadata": {
            "tags": []
          },
          "execution_count": 20
        }
      ]
    },
    {
      "cell_type": "code",
      "metadata": {
        "id": "Jj-DInh_UVY1",
        "colab_type": "code",
        "outputId": "bc6172a9-140b-42e4-b200-75259c998b30",
        "colab": {
          "base_uri": "https://localhost:8080/",
          "height": 85
        }
      },
      "source": [
        "# 3). Сколько решений имеет линейная система:\n",
        "# Если ноль – то измените вектор правой части так, чтобы система стала \n",
        "# совместной, и решите ее.\n",
        "\n",
        "A = np.array(\n",
        "    [\n",
        "     [1, 2, 3], \n",
        "     [4, 5, 6], \n",
        "     [7, 8, 9]\n",
        "    ]\n",
        ")\n",
        "B = np.array([[5, 2, 1]])\n",
        "C = np.concatenate((A, B.T), axis=1)\n",
        "print(C)\n",
        "np.linalg.matrix_rank(A, 0.0001), np.linalg.matrix_rank(C, 0.0001)"
      ],
      "execution_count": 40,
      "outputs": [
        {
          "output_type": "stream",
          "text": [
            "[[1 2 3 5]\n",
            " [4 5 6 2]\n",
            " [7 8 9 1]]\n"
          ],
          "name": "stdout"
        },
        {
          "output_type": "execute_result",
          "data": {
            "text/plain": [
              "(2, 3)"
            ]
          },
          "metadata": {
            "tags": []
          },
          "execution_count": 40
        }
      ]
    },
    {
      "cell_type": "code",
      "metadata": {
        "id": "dbdJsCh-XIP5",
        "colab_type": "code",
        "outputId": "c3655f5f-35ca-4698-d577-6105ff882a86",
        "colab": {
          "base_uri": "https://localhost:8080/",
          "height": 85
        }
      },
      "source": [
        "# ранг матрицы меньше ранга расширенной матрицы поэтому система не имеет \n",
        "# решений\n",
        "#\n",
        "# изменим вектор правой части так, чтобы система стала совместной и решим\n",
        "\n",
        "B = np.array([3, 2, 1])\n",
        "np.linalg.lstsq(A, B, rcond=None)"
      ],
      "execution_count": 22,
      "outputs": [
        {
          "output_type": "execute_result",
          "data": {
            "text/plain": [
              "(array([-1.94444444, -0.11111111,  1.72222222]),\n",
              " array([], dtype=float64),\n",
              " 2,\n",
              " array([1.68481034e+01, 1.06836951e+00, 4.41842475e-16]))"
            ]
          },
          "metadata": {
            "tags": []
          },
          "execution_count": 22
        }
      ]
    },
    {
      "cell_type": "code",
      "metadata": {
        "id": "fgjb40Htbugc",
        "colab_type": "code",
        "outputId": "82b94310-3326-4d77-ad89-83d043b3cefe",
        "colab": {
          "base_uri": "https://localhost:8080/",
          "height": 272
        }
      },
      "source": [
        "# 4). Вычислите LU-разложение матрицы\n",
        "A = np.array(\n",
        "    [\n",
        "     [1, 2, 3],\n",
        "     [2, 16, 21],\n",
        "     [4, 28, 73]\n",
        "    ]\n",
        ")\n",
        "P, L, U = scipy.linalg.lu(A)\n",
        "print(A,P,L,U,sep='\\n\\n')"
      ],
      "execution_count": 23,
      "outputs": [
        {
          "output_type": "stream",
          "text": [
            "[[ 1  2  3]\n",
            " [ 2 16 21]\n",
            " [ 4 28 73]]\n",
            "\n",
            "[[0. 1. 0.]\n",
            " [0. 0. 1.]\n",
            " [1. 0. 0.]]\n",
            "\n",
            "[[ 1.    0.    0.  ]\n",
            " [ 0.25  1.    0.  ]\n",
            " [ 0.5  -0.4   1.  ]]\n",
            "\n",
            "[[  4.    28.    73.  ]\n",
            " [  0.    -5.   -15.25]\n",
            " [  0.     0.   -21.6 ]]\n"
          ],
          "name": "stdout"
        }
      ]
    },
    {
      "cell_type": "code",
      "metadata": {
        "id": "53bFFXRekk7G",
        "colab_type": "code",
        "colab": {
          "base_uri": "https://localhost:8080/",
          "height": 34
        },
        "outputId": "b5e556bf-ed31-46c0-96ef-e6fdbcf1e568"
      },
      "source": [
        "# После этого придумайте вектор правых частей и решите полученную линейную \n",
        "# систему трех уравнений с данной матрицей.\n",
        "\n",
        "B = np.array([4, 1, 7])\n",
        "np.linalg.solve(A, B)"
      ],
      "execution_count": 24,
      "outputs": [
        {
          "output_type": "execute_result",
          "data": {
            "text/plain": [
              "array([ 5.12962963, -0.67592593,  0.07407407])"
            ]
          },
          "metadata": {
            "tags": []
          },
          "execution_count": 24
        }
      ]
    },
    {
      "cell_type": "code",
      "metadata": {
        "id": "2OLYfPjiTw5X",
        "colab_type": "code",
        "colab": {
          "base_uri": "https://localhost:8080/",
          "height": 279
        },
        "outputId": "62814688-5205-4320-af27-485a18322d7a"
      },
      "source": [
        "# 5). Найдите нормальное псевдорешение недоопределенной системы:\n",
        "\n",
        "def Q(x, y, z):\n",
        "  return (x**2 + y**2 + z**2)\n",
        "\n",
        "z = np.linspace(0, 0.05, 200)\n",
        "plt.plot(z, Q((z + 29) / 21, (10 * z - 4) / 21, z))\n",
        "plt.xlabel(\"z\")\n",
        "plt.ylabel(\"Q\")\n",
        "plt.grid(True)\n",
        "\n",
        "# на графике видим что нормальное псевдорешение при z ~ 0.02"
      ],
      "execution_count": 38,
      "outputs": [
        {
          "output_type": "display_data",
          "data": {
            "image/png": "[encoded data removed]",
            "text/plain": [
              "<Figure size 432x288 with 1 Axes>"
            ]
          },
          "metadata": {
            "tags": []
          }
        }
      ]
    },
    {
      "cell_type": "code",
      "metadata": {
        "id": "3LcILIlRXDAI",
        "colab_type": "code",
        "colab": {
          "base_uri": "https://localhost:8080/",
          "height": 85
        },
        "outputId": "f0d91912-3862-4d96-891a-28b177d15c00"
      },
      "source": [
        "# ниже решим с помощью численных методов и проверем результат \n",
        "# полученный до этого\n",
        "\n",
        "A = np.array(\n",
        "    [\n",
        "     [1, 2, -1],\n",
        "     [8, -5, 2]\n",
        "    ]\n",
        ")\n",
        "B = np.array([1, 12])\n",
        "np.linalg.lstsq(A, B, rcond=None)"
      ],
      "execution_count": 39,
      "outputs": [
        {
          "output_type": "execute_result",
          "data": {
            "text/plain": [
              "(array([ 1.38191882, -0.18081181,  0.0202952 ]),\n",
              " array([], dtype=float64),\n",
              " 2,\n",
              " array([9.65316119, 2.41173777]))"
            ]
          },
          "metadata": {
            "tags": []
          },
          "execution_count": 39
        }
      ]
    },
    {
      "cell_type": "code",
      "metadata": {
        "id": "9ZGtUlWNeXBN",
        "colab_type": "code",
        "colab": {}
      },
      "source": [
        ""
      ],
      "execution_count": 0,
      "outputs": []
    }
  ]
}